{
  "nbformat": 4,
  "nbformat_minor": 0,
  "metadata": {
    "colab": {
      "name": "unitTest Prime Num Assignment Day9.ipynb",
      "provenance": [],
      "collapsed_sections": []
    },
    "kernelspec": {
      "name": "python3",
      "display_name": "Python 3"
    }
  },
  "cells": [
    {
      "cell_type": "markdown",
      "metadata": {
        "id": "C6GidG42f5BT",
        "colab_type": "text"
      },
      "source": [
        "**UnitTest:- prime num**"
      ]
    },
    {
      "cell_type": "code",
      "metadata": {
        "id": "cQOOubsOZqRt",
        "colab_type": "code",
        "colab": {
          "base_uri": "https://localhost:8080/",
          "height": 34
        },
        "outputId": "b305eef8-bc94-457d-9bdf-4c7349041ba8"
      },
      "source": [
        "%%writefile primecheck.py\n",
        "def test_prime(n):\n",
        "    if (n==1):\n",
        "        return False\n",
        "    elif (n==2):\n",
        "        return True;\n",
        "    else:\n",
        "        for x in range(2,n):\n",
        "            if(n % x==0):\n",
        "                return False\n",
        "        return True  "
      ],
      "execution_count": 5,
      "outputs": [
        {
          "output_type": "stream",
          "text": [
            "Writing primecheck.py\n"
          ],
          "name": "stdout"
        }
      ]
    },
    {
      "cell_type": "code",
      "metadata": {
        "id": "o8GIhxo0avGi",
        "colab_type": "code",
        "colab": {}
      },
      "source": [
        "import primecheck\n"
      ],
      "execution_count": 6,
      "outputs": []
    },
    {
      "cell_type": "code",
      "metadata": {
        "id": "VPqoERypZ-bN",
        "colab_type": "code",
        "colab": {
          "base_uri": "https://localhost:8080/",
          "height": 34
        },
        "outputId": "843f9e55-8691-4caa-839b-c02e536fefa2"
      },
      "source": [
        "%%writefile testprimecheck.py\n",
        "import unittest\n",
        "import primecheck\n",
        "from primecheck import test_prime\n",
        "class testprimecheck(unittest.TestCase):\n",
        "  def testanum(self):\n",
        "    self.assertTrue(test_prime(5))\n",
        "if __name__ == '__main__':\n",
        "    unittest.main()"
      ],
      "execution_count": 12,
      "outputs": [
        {
          "output_type": "stream",
          "text": [
            "Overwriting testprimecheck.py\n"
          ],
          "name": "stdout"
        }
      ]
    },
    {
      "cell_type": "code",
      "metadata": {
        "id": "6hMB0nkGeCfV",
        "colab_type": "code",
        "colab": {
          "base_uri": "https://localhost:8080/",
          "height": 102
        },
        "outputId": "36b6d180-b0e2-4a25-bd08-b1fbf205e180"
      },
      "source": [
        "!python testprimecheck.py"
      ],
      "execution_count": 13,
      "outputs": [
        {
          "output_type": "stream",
          "text": [
            ".\n",
            "----------------------------------------------------------------------\n",
            "Ran 1 test in 0.000s\n",
            "\n",
            "OK\n"
          ],
          "name": "stdout"
        }
      ]
    },
    {
      "cell_type": "code",
      "metadata": {
        "id": "SKXTqlXJeMjU",
        "colab_type": "code",
        "colab": {}
      },
      "source": [
        ""
      ],
      "execution_count": null,
      "outputs": []
    }
  ]
}
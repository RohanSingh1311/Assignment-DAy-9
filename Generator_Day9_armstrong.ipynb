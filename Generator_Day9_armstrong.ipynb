{
  "nbformat": 4,
  "nbformat_minor": 0,
  "metadata": {
    "colab": {
      "name": "Generator Day9 armstrong.ipynb",
      "provenance": [],
      "collapsed_sections": []
    },
    "kernelspec": {
      "name": "python3",
      "display_name": "Python 3"
    }
  },
  "cells": [
    {
      "cell_type": "code",
      "metadata": {
        "id": "kS5GQQ8qlbQU",
        "colab_type": "code",
        "colab": {}
      },
      "source": [
        "\n",
        "lst = list(range(1,1001))"
      ],
      "execution_count": 26,
      "outputs": []
    },
    {
      "cell_type": "code",
      "metadata": {
        "id": "3Su0GtoIhy_8",
        "colab_type": "code",
        "colab": {}
      },
      "source": [
        "def armstr(lst):    \n",
        "    for num in lst:\n",
        "      order=len(str(num))\n",
        "      temp = num\n",
        "      s = 0\n",
        "      while temp > 0:\n",
        "        dig = temp % 10\n",
        "        s += dig ** order\n",
        "        temp=temp//10\n",
        "      if num == s:\n",
        "        yield num"
      ],
      "execution_count": 43,
      "outputs": []
    },
    {
      "cell_type": "code",
      "metadata": {
        "id": "4vZm8voXlfto",
        "colab_type": "code",
        "colab": {
          "base_uri": "https://localhost:8080/",
          "height": 34
        },
        "outputId": "aa5c448f-fefa-4246-eaf1-15fb6966623d"
      },
      "source": [
        "list(armstr(lst))"
      ],
      "execution_count": 44,
      "outputs": [
        {
          "output_type": "execute_result",
          "data": {
            "text/plain": [
              "[1, 2, 3, 4, 5, 6, 7, 8, 9, 153, 370, 371, 407]"
            ]
          },
          "metadata": {
            "tags": []
          },
          "execution_count": 44
        }
      ]
    },
    {
      "cell_type": "code",
      "metadata": {
        "id": "VBUY7pvEn7Zl",
        "colab_type": "code",
        "colab": {}
      },
      "source": [
        ""
      ],
      "execution_count": null,
      "outputs": []
    }
  ]
}